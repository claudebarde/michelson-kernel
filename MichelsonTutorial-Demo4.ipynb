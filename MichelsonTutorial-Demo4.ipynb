{
 "cells": [
  {
   "cell_type": "markdown",
   "metadata": {},
   "source": [
    "# Inline code\n",
    "The code is written in one single block."
   ]
  },
  {
   "cell_type": "code",
   "execution_count": 17,
   "metadata": {},
   "outputs": [
    {
     "name": "stdout",
     "output_type": "stream",
     "text": [
      "parameter string;\n",
      "storage (pair address string);\n",
      "code { DUP ; CAR ; DIP { CDR ; DUP ; CDR } ; DIG 2 ; CAR ; DUP ; SENDER ; { { COMPARE ; EQ } ; IF {} { { UNIT ; FAILWITH } } } ; DIP { SWAP ; CONCAT } ; PAIR ; NIL operation ; PAIR };"
     ]
    }
   ],
   "source": [
    "parameter string ;\n",
    "storage (pair address string) ;\n",
    "code {\n",
    "    DUP ;\n",
    "    CAR ;\n",
    "    DIP { CDR ; DUP ; CDR } ;\n",
    "    DIG 2 ;\n",
    "    CAR ;\n",
    "    DUP ;\n",
    "    SENDER ;\n",
    "    IFCMPEQ {} { FAIL } ;\n",
    "    DIP { SWAP ; CONCAT } ;\n",
    "    PAIR ;\n",
    "    NIL operation ;\n",
    "    PAIR\n",
    "}"
   ]
  },
  {
   "cell_type": "code",
   "execution_count": 18,
   "metadata": {},
   "outputs": [
    {
     "name": "stdout",
     "output_type": "stream",
     "text": [
      "RUN: use %default; drop all; push ('world', ('tz1VSUr8wwNhLAzempoch5d6hLRiTh8Cjcjb', 'Hello '));\n",
      "  DUP: push ('world', ('tz1VSUr8wwNhLAzempoch5d6hLRiTh8Cjcjb', 'Hello '));\n",
      "  CAR: pop ('world', ('tz1VSUr8wwNhLAzempoch5d6hLRiTh8Cjcjb', 'Hello ')); push world;\n",
      "  DIP: protect 1 item(s);\n",
      "    CDR: pop ('world', ('tz1VSUr8wwNhLAzempoch5d6hLRiTh8Cjcjb', 'Hello ')); push ('tz1VSUr8wwNhLAzempoch5d6hLRiTh8Cjcjb', 'Hello ');\n",
      "    DUP: push ('tz1VSUr8wwNhLAzempoch5d6hLRiTh8Cjcjb', 'Hello ');\n",
      "    CDR: pop ('tz1VSUr8wwNhLAzempoch5d6hLRiTh8Cjcjb', 'Hello '); push Hello ;\n",
      "    restore 1 item(s);\n",
      "  DIG: protect 2 item(s); pop ('tz1VSUr8wwNhLAzempoch5d6hLRiTh8Cjcjb', 'Hello '); restore 2 item(s); push ('tz1VSUr8wwNhLAzempoch5d6hLRiTh8Cjcjb', 'Hello ');\n",
      "  CAR: pop ('tz1VSUr8wwNhLAzempoch5d6hLRiTh8Cjcjb', 'Hello '); push tz1VSUr8wwNhLAzempoch5d6hLRiTh8Cjcjb;\n",
      "  DUP: push tz1VSUr8wwNhLAzempoch5d6hLRiTh8Cjcjb;\n",
      "  SENDER: push tz1VSUr8wwNhLAzempoch5d6hLRiTh8Cjcjb;\n",
      "  COMPARE: pop tz1VSUr8wwNhLAzempoch5d6hLRiTh8Cjcjb, tz1VSUr8wwNhLAzempoch5d6hLRiTh8Cjcjb; push 0;\n",
      "  EQ: pop 0; push True;\n",
      "  IF: pop True;\n",
      "  DIP: protect 1 item(s);\n",
      "    SWAP: pop world, Hello ; push world; push Hello ;\n",
      "    CONCAT: pop Hello ; pop world; push Hello world;\n",
      "    restore 1 item(s);\n",
      "  PAIR: pop tz1VSUr8wwNhLAzempoch5d6hLRiTh8Cjcjb, Hello world; push ('tz1VSUr8wwNhLAzempoch5d6hLRiTh8Cjcjb', 'Hello world');\n",
      "  NIL: push [];\n",
      "  PAIR: pop [], ('tz1VSUr8wwNhLAzempoch5d6hLRiTh8Cjcjb', 'Hello world'); push ([], ('tz1VSUr8wwNhLAzempoch5d6hLRiTh8Cjcjb', 'Hello world'));"
     ]
    },
    {
     "data": {
      "text/html": [
       "<table>\n",
       "<thead>\n",
       "<tr><th>value                                                                                         </th><th>type                                                    </th></tr>\n",
       "</thead>\n",
       "<tbody>\n",
       "<tr><td><pre style=&quot;text-align: left;&quot;>Pair &quot;tz1VSUr8wwNhLAzempoch5d6hLRiTh8Cjcjb&quot; &quot;Hello world&quot;</pre></td><td><pre style=&quot;text-align: left;&quot;>pair address string</pre></td></tr>\n",
       "</tbody>\n",
       "</table>"
      ],
      "text/plain": [
       "value                                                      type\n",
       "---------------------------------------------------------  -------------------\n",
       "Pair \"tz1VSUr8wwNhLAzempoch5d6hLRiTh8Cjcjb\" \"Hello world\"  pair address string"
      ]
     },
     "execution_count": 18,
     "metadata": {},
     "output_type": "execute_result"
    }
   ],
   "source": [
    "RUN %default \"world\" (Pair \"tz1VSUr8wwNhLAzempoch5d6hLRiTh8Cjcjb\" \"Hello \")"
   ]
  },
  {
   "cell_type": "markdown",
   "metadata": {},
   "source": [
    "# Step by step\n",
    "You can track the stack after each operation."
   ]
  },
  {
   "cell_type": "code",
   "execution_count": 1,
   "metadata": {},
   "outputs": [
    {
     "name": "stdout",
     "output_type": "stream",
     "text": [
      "parameter string;\n",
      "storage (pair address string);"
     ]
    }
   ],
   "source": [
    "parameter string ;\n",
    "storage (pair address string) ;"
   ]
  },
  {
   "cell_type": "code",
   "execution_count": 2,
   "metadata": {},
   "outputs": [
    {
     "data": {
      "text/html": [
       "<table>\n",
       "<thead>\n",
       "<tr><th>value                                                                                                   </th><th>type                                                                  </th></tr>\n",
       "</thead>\n",
       "<tbody>\n",
       "<tr><td><pre style=&quot;text-align: left;&quot;>Pair &quot;world&quot; (Pair &quot;tz1VSUr8wwNhLAzempoch5d6hLRiTh8Cjcjb&quot; &quot;Hello &quot;)</pre></td><td><pre style=&quot;text-align: left;&quot;>pair string (pair address string)</pre></td></tr>\n",
       "</tbody>\n",
       "</table>"
      ],
      "text/plain": [
       "value                                                                type\n",
       "-------------------------------------------------------------------  ---------------------------------\n",
       "Pair \"world\" (Pair \"tz1VSUr8wwNhLAzempoch5d6hLRiTh8Cjcjb\" \"Hello \")  pair string (pair address string)"
      ]
     },
     "execution_count": 2,
     "metadata": {},
     "output_type": "execute_result"
    }
   ],
   "source": [
    "BEGIN \"world\" (Pair \"tz1VSUr8wwNhLAzempoch5d6hLRiTh8Cjcjb\" \"Hello \")"
   ]
  },
  {
   "cell_type": "markdown",
   "metadata": {},
   "source": [
    "We manually add the sender's address:"
   ]
  },
  {
   "cell_type": "code",
   "execution_count": 3,
   "metadata": {},
   "outputs": [],
   "source": [
    "PATCH SENDER \"tz1VSUr8wwNhLAzempoch5d6hLRiTh8Cjcjb\" ;"
   ]
  },
  {
   "cell_type": "markdown",
   "metadata": {},
   "source": [
    "We duplicate the pair to extract the parameter and the storage:"
   ]
  },
  {
   "cell_type": "code",
   "execution_count": 4,
   "metadata": {},
   "outputs": [
    {
     "data": {
      "text/html": [
       "<table>\n",
       "<thead>\n",
       "<tr><th>value                                                                                                   </th><th>type                                                                  </th></tr>\n",
       "</thead>\n",
       "<tbody>\n",
       "<tr><td><pre style=&quot;text-align: left;&quot;>Pair &quot;world&quot; (Pair &quot;tz1VSUr8wwNhLAzempoch5d6hLRiTh8Cjcjb&quot; &quot;Hello &quot;)</pre></td><td><pre style=&quot;text-align: left;&quot;>pair string (pair address string)</pre></td></tr>\n",
       "<tr><td><pre style=&quot;text-align: left;&quot;>Pair &quot;world&quot; (Pair &quot;tz1VSUr8wwNhLAzempoch5d6hLRiTh8Cjcjb&quot; &quot;Hello &quot;)</pre></td><td><pre style=&quot;text-align: left;&quot;>pair string (pair address string)</pre></td></tr>\n",
       "</tbody>\n",
       "</table>"
      ],
      "text/plain": [
       "value                                                                type\n",
       "-------------------------------------------------------------------  ---------------------------------\n",
       "Pair \"world\" (Pair \"tz1VSUr8wwNhLAzempoch5d6hLRiTh8Cjcjb\" \"Hello \")  pair string (pair address string)\n",
       "Pair \"world\" (Pair \"tz1VSUr8wwNhLAzempoch5d6hLRiTh8Cjcjb\" \"Hello \")  pair string (pair address string)"
      ]
     },
     "execution_count": 4,
     "metadata": {},
     "output_type": "execute_result"
    }
   ],
   "source": [
    "DUP ; DUMP ;"
   ]
  },
  {
   "cell_type": "markdown",
   "metadata": {},
   "source": [
    "We extract the left part of the first pair:"
   ]
  },
  {
   "cell_type": "code",
   "execution_count": 5,
   "metadata": {},
   "outputs": [
    {
     "data": {
      "text/html": [
       "<table>\n",
       "<thead>\n",
       "<tr><th>value                                                                                                   </th><th>type                                                                  </th></tr>\n",
       "</thead>\n",
       "<tbody>\n",
       "<tr><td><pre style=&quot;text-align: left;&quot;>&quot;world&quot;</pre>                                                            </td><td><pre style=&quot;text-align: left;&quot;>string</pre>                           </td></tr>\n",
       "<tr><td><pre style=&quot;text-align: left;&quot;>Pair &quot;world&quot; (Pair &quot;tz1VSUr8wwNhLAzempoch5d6hLRiTh8Cjcjb&quot; &quot;Hello &quot;)</pre></td><td><pre style=&quot;text-align: left;&quot;>pair string (pair address string)</pre></td></tr>\n",
       "</tbody>\n",
       "</table>"
      ],
      "text/plain": [
       "value                                                                type\n",
       "-------------------------------------------------------------------  ---------------------------------\n",
       "\"world\"                                                              string\n",
       "Pair \"world\" (Pair \"tz1VSUr8wwNhLAzempoch5d6hLRiTh8Cjcjb\" \"Hello \")  pair string (pair address string)"
      ]
     },
     "execution_count": 5,
     "metadata": {},
     "output_type": "execute_result"
    }
   ],
   "source": [
    "CAR ; DUMP ;"
   ]
  },
  {
   "cell_type": "markdown",
   "metadata": {},
   "source": [
    "We extract the right side of the pair (which is also a pair) duplicate it and extract the right side:"
   ]
  },
  {
   "cell_type": "code",
   "execution_count": 6,
   "metadata": {},
   "outputs": [
    {
     "name": "stdout",
     "output_type": "stream",
     "text": [
      "DIP: protect 1 item(s);\n",
      "  CDR: pop ('world', ('tz1VSUr8wwNhLAzempoch5d6hLRiTh8Cjcjb', 'Hello ')); push ('tz1VSUr8wwNhLAzempoch5d6hLRiTh8Cjcjb', 'Hello ');\n",
      "  DUP: push ('tz1VSUr8wwNhLAzempoch5d6hLRiTh8Cjcjb', 'Hello ');\n",
      "  CDR: pop ('tz1VSUr8wwNhLAzempoch5d6hLRiTh8Cjcjb', 'Hello '); push Hello ;\n",
      "  restore 1 item(s);"
     ]
    },
    {
     "data": {
      "text/html": [
       "<table>\n",
       "<thead>\n",
       "<tr><th>value                                                                                    </th><th>type                                                    </th></tr>\n",
       "</thead>\n",
       "<tbody>\n",
       "<tr><td><pre style=&quot;text-align: left;&quot;>&quot;world&quot;</pre>                                             </td><td><pre style=&quot;text-align: left;&quot;>string</pre>             </td></tr>\n",
       "<tr><td><pre style=&quot;text-align: left;&quot;>&quot;Hello &quot;</pre>                                            </td><td><pre style=&quot;text-align: left;&quot;>string</pre>             </td></tr>\n",
       "<tr><td><pre style=&quot;text-align: left;&quot;>Pair &quot;tz1VSUr8wwNhLAzempoch5d6hLRiTh8Cjcjb&quot; &quot;Hello &quot;</pre></td><td><pre style=&quot;text-align: left;&quot;>pair address string</pre></td></tr>\n",
       "</tbody>\n",
       "</table>"
      ],
      "text/plain": [
       "value                                                 type\n",
       "----------------------------------------------------  -------------------\n",
       "\"world\"                                               string\n",
       "\"Hello \"                                              string\n",
       "Pair \"tz1VSUr8wwNhLAzempoch5d6hLRiTh8Cjcjb\" \"Hello \"  pair address string"
      ]
     },
     "execution_count": 6,
     "metadata": {},
     "output_type": "execute_result"
    }
   ],
   "source": [
    "DIP { CDR ; DUP ; CDR } ; DUMP ;"
   ]
  },
  {
   "cell_type": "markdown",
   "metadata": {},
   "source": [
    "We bring element 3 to the top of the stack:"
   ]
  },
  {
   "cell_type": "code",
   "execution_count": 7,
   "metadata": {
    "scrolled": true
   },
   "outputs": [
    {
     "data": {
      "text/html": [
       "<table>\n",
       "<thead>\n",
       "<tr><th>value                                                                                    </th><th>type                                                    </th></tr>\n",
       "</thead>\n",
       "<tbody>\n",
       "<tr><td><pre style=&quot;text-align: left;&quot;>Pair &quot;tz1VSUr8wwNhLAzempoch5d6hLRiTh8Cjcjb&quot; &quot;Hello &quot;</pre></td><td><pre style=&quot;text-align: left;&quot;>pair address string</pre></td></tr>\n",
       "<tr><td><pre style=&quot;text-align: left;&quot;>&quot;world&quot;</pre>                                             </td><td><pre style=&quot;text-align: left;&quot;>string</pre>             </td></tr>\n",
       "<tr><td><pre style=&quot;text-align: left;&quot;>&quot;Hello &quot;</pre>                                            </td><td><pre style=&quot;text-align: left;&quot;>string</pre>             </td></tr>\n",
       "</tbody>\n",
       "</table>"
      ],
      "text/plain": [
       "value                                                 type\n",
       "----------------------------------------------------  -------------------\n",
       "Pair \"tz1VSUr8wwNhLAzempoch5d6hLRiTh8Cjcjb\" \"Hello \"  pair address string\n",
       "\"world\"                                               string\n",
       "\"Hello \"                                              string"
      ]
     },
     "execution_count": 7,
     "metadata": {},
     "output_type": "execute_result"
    }
   ],
   "source": [
    "DIG 2 ; DUMP ;"
   ]
  },
  {
   "cell_type": "markdown",
   "metadata": {},
   "source": [
    "We extract the address from the storage:"
   ]
  },
  {
   "cell_type": "code",
   "execution_count": 8,
   "metadata": {},
   "outputs": [
    {
     "data": {
      "text/html": [
       "<table>\n",
       "<thead>\n",
       "<tr><th>value                                                                      </th><th>type                                        </th></tr>\n",
       "</thead>\n",
       "<tbody>\n",
       "<tr><td><pre style=&quot;text-align: left;&quot;>&quot;tz1VSUr8wwNhLAzempoch5d6hLRiTh8Cjcjb&quot;</pre></td><td><pre style=&quot;text-align: left;&quot;>address</pre></td></tr>\n",
       "<tr><td><pre style=&quot;text-align: left;&quot;>&quot;world&quot;</pre>                               </td><td><pre style=&quot;text-align: left;&quot;>string</pre> </td></tr>\n",
       "<tr><td><pre style=&quot;text-align: left;&quot;>&quot;Hello &quot;</pre>                              </td><td><pre style=&quot;text-align: left;&quot;>string</pre> </td></tr>\n",
       "</tbody>\n",
       "</table>"
      ],
      "text/plain": [
       "value                                   type\n",
       "--------------------------------------  -------\n",
       "\"tz1VSUr8wwNhLAzempoch5d6hLRiTh8Cjcjb\"  address\n",
       "\"world\"                                 string\n",
       "\"Hello \"                                string"
      ]
     },
     "execution_count": 8,
     "metadata": {},
     "output_type": "execute_result"
    }
   ],
   "source": [
    "CAR ; DUMP ;"
   ]
  },
  {
   "cell_type": "markdown",
   "metadata": {},
   "source": [
    "We duplicate the address from the storage to insert it back when we return the new storage:"
   ]
  },
  {
   "cell_type": "code",
   "execution_count": 9,
   "metadata": {},
   "outputs": [
    {
     "data": {
      "text/html": [
       "<table>\n",
       "<thead>\n",
       "<tr><th>value                                                                      </th><th>type                                        </th></tr>\n",
       "</thead>\n",
       "<tbody>\n",
       "<tr><td><pre style=&quot;text-align: left;&quot;>&quot;tz1VSUr8wwNhLAzempoch5d6hLRiTh8Cjcjb&quot;</pre></td><td><pre style=&quot;text-align: left;&quot;>address</pre></td></tr>\n",
       "<tr><td><pre style=&quot;text-align: left;&quot;>&quot;tz1VSUr8wwNhLAzempoch5d6hLRiTh8Cjcjb&quot;</pre></td><td><pre style=&quot;text-align: left;&quot;>address</pre></td></tr>\n",
       "<tr><td><pre style=&quot;text-align: left;&quot;>&quot;world&quot;</pre>                               </td><td><pre style=&quot;text-align: left;&quot;>string</pre> </td></tr>\n",
       "<tr><td><pre style=&quot;text-align: left;&quot;>&quot;Hello &quot;</pre>                              </td><td><pre style=&quot;text-align: left;&quot;>string</pre> </td></tr>\n",
       "</tbody>\n",
       "</table>"
      ],
      "text/plain": [
       "value                                   type\n",
       "--------------------------------------  -------\n",
       "\"tz1VSUr8wwNhLAzempoch5d6hLRiTh8Cjcjb\"  address\n",
       "\"tz1VSUr8wwNhLAzempoch5d6hLRiTh8Cjcjb\"  address\n",
       "\"world\"                                 string\n",
       "\"Hello \"                                string"
      ]
     },
     "execution_count": 9,
     "metadata": {},
     "output_type": "execute_result"
    }
   ],
   "source": [
    "DUP ; DUMP ;"
   ]
  },
  {
   "cell_type": "markdown",
   "metadata": {},
   "source": [
    "We push the sender's address on the top of the stack:"
   ]
  },
  {
   "cell_type": "code",
   "execution_count": 10,
   "metadata": {},
   "outputs": [
    {
     "data": {
      "text/html": [
       "<table>\n",
       "<thead>\n",
       "<tr><th>value                                                                      </th><th>type                                        </th><th>name                                        </th></tr>\n",
       "</thead>\n",
       "<tbody>\n",
       "<tr><td><pre style=&quot;text-align: left;&quot;>&quot;tz1VSUr8wwNhLAzempoch5d6hLRiTh8Cjcjb&quot;</pre></td><td><pre style=&quot;text-align: left;&quot;>address</pre></td><td><pre style=&quot;text-align: left;&quot;>@sender</pre></td></tr>\n",
       "<tr><td><pre style=&quot;text-align: left;&quot;>&quot;tz1VSUr8wwNhLAzempoch5d6hLRiTh8Cjcjb&quot;</pre></td><td><pre style=&quot;text-align: left;&quot;>address</pre></td><td>                                            </td></tr>\n",
       "<tr><td><pre style=&quot;text-align: left;&quot;>&quot;tz1VSUr8wwNhLAzempoch5d6hLRiTh8Cjcjb&quot;</pre></td><td><pre style=&quot;text-align: left;&quot;>address</pre></td><td>                                            </td></tr>\n",
       "<tr><td><pre style=&quot;text-align: left;&quot;>&quot;world&quot;</pre>                               </td><td><pre style=&quot;text-align: left;&quot;>string</pre> </td><td>                                            </td></tr>\n",
       "<tr><td><pre style=&quot;text-align: left;&quot;>&quot;Hello &quot;</pre>                              </td><td><pre style=&quot;text-align: left;&quot;>string</pre> </td><td>                                            </td></tr>\n",
       "</tbody>\n",
       "</table>"
      ],
      "text/plain": [
       "value                                   type     name\n",
       "--------------------------------------  -------  -------\n",
       "\"tz1VSUr8wwNhLAzempoch5d6hLRiTh8Cjcjb\"  address  @sender\n",
       "\"tz1VSUr8wwNhLAzempoch5d6hLRiTh8Cjcjb\"  address\n",
       "\"tz1VSUr8wwNhLAzempoch5d6hLRiTh8Cjcjb\"  address\n",
       "\"world\"                                 string\n",
       "\"Hello \"                                string"
      ]
     },
     "execution_count": 10,
     "metadata": {},
     "output_type": "execute_result"
    }
   ],
   "source": [
    "SENDER ; DUMP ;"
   ]
  },
  {
   "cell_type": "markdown",
   "metadata": {},
   "source": [
    "We compare the sender's address with the address in the storage.\n",
    "The contract fails if the two addresses are not the same:"
   ]
  },
  {
   "cell_type": "code",
   "execution_count": 11,
   "metadata": {},
   "outputs": [
    {
     "name": "stdout",
     "output_type": "stream",
     "text": [
      "COMPARE: pop tz1VSUr8wwNhLAzempoch5d6hLRiTh8Cjcjb, tz1VSUr8wwNhLAzempoch5d6hLRiTh8Cjcjb; push 0;\n",
      "EQ: pop 0; push True;\n",
      "IF: pop True;"
     ]
    },
    {
     "data": {
      "text/html": [
       "<table>\n",
       "<thead>\n",
       "<tr><th>value                                                                      </th><th>type                                        </th></tr>\n",
       "</thead>\n",
       "<tbody>\n",
       "<tr><td><pre style=&quot;text-align: left;&quot;>&quot;tz1VSUr8wwNhLAzempoch5d6hLRiTh8Cjcjb&quot;</pre></td><td><pre style=&quot;text-align: left;&quot;>address</pre></td></tr>\n",
       "<tr><td><pre style=&quot;text-align: left;&quot;>&quot;world&quot;</pre>                               </td><td><pre style=&quot;text-align: left;&quot;>string</pre> </td></tr>\n",
       "<tr><td><pre style=&quot;text-align: left;&quot;>&quot;Hello &quot;</pre>                              </td><td><pre style=&quot;text-align: left;&quot;>string</pre> </td></tr>\n",
       "</tbody>\n",
       "</table>"
      ],
      "text/plain": [
       "value                                   type\n",
       "--------------------------------------  -------\n",
       "\"tz1VSUr8wwNhLAzempoch5d6hLRiTh8Cjcjb\"  address\n",
       "\"world\"                                 string\n",
       "\"Hello \"                                string"
      ]
     },
     "execution_count": 11,
     "metadata": {},
     "output_type": "execute_result"
    }
   ],
   "source": [
    "IFCMPEQ {} { FAIL } ; DUMP ;"
   ]
  },
  {
   "cell_type": "markdown",
   "metadata": {},
   "source": [
    "We get the two strings in the right order and concatenate them:"
   ]
  },
  {
   "cell_type": "code",
   "execution_count": 14,
   "metadata": {},
   "outputs": [
    {
     "name": "stdout",
     "output_type": "stream",
     "text": [
      "DIP: protect 1 item(s);\n",
      "  SWAP: pop world, Hello ; push world; push Hello ;\n",
      "  CONCAT: pop Hello ; pop world; push Hello world;\n",
      "  restore 1 item(s);"
     ]
    },
    {
     "data": {
      "text/html": [
       "<table>\n",
       "<thead>\n",
       "<tr><th>value                                                                      </th><th>type                                        </th></tr>\n",
       "</thead>\n",
       "<tbody>\n",
       "<tr><td><pre style=&quot;text-align: left;&quot;>&quot;tz1VSUr8wwNhLAzempoch5d6hLRiTh8Cjcjb&quot;</pre></td><td><pre style=&quot;text-align: left;&quot;>address</pre></td></tr>\n",
       "<tr><td><pre style=&quot;text-align: left;&quot;>&quot;Hello world&quot;</pre>                         </td><td><pre style=&quot;text-align: left;&quot;>string</pre> </td></tr>\n",
       "</tbody>\n",
       "</table>"
      ],
      "text/plain": [
       "value                                   type\n",
       "--------------------------------------  -------\n",
       "\"tz1VSUr8wwNhLAzempoch5d6hLRiTh8Cjcjb\"  address\n",
       "\"Hello world\"                           string"
      ]
     },
     "execution_count": 14,
     "metadata": {},
     "output_type": "execute_result"
    }
   ],
   "source": [
    "DIP { SWAP ; CONCAT } ; DUMP ;"
   ]
  },
  {
   "cell_type": "markdown",
   "metadata": {},
   "source": [
    "We make a pair with the address and string to create the new storage:"
   ]
  },
  {
   "cell_type": "code",
   "execution_count": 15,
   "metadata": {},
   "outputs": [
    {
     "data": {
      "text/html": [
       "<table>\n",
       "<thead>\n",
       "<tr><th>value                                                                                         </th><th>type                                                    </th></tr>\n",
       "</thead>\n",
       "<tbody>\n",
       "<tr><td><pre style=&quot;text-align: left;&quot;>Pair &quot;tz1VSUr8wwNhLAzempoch5d6hLRiTh8Cjcjb&quot; &quot;Hello world&quot;</pre></td><td><pre style=&quot;text-align: left;&quot;>pair address string</pre></td></tr>\n",
       "</tbody>\n",
       "</table>"
      ],
      "text/plain": [
       "value                                                      type\n",
       "---------------------------------------------------------  -------------------\n",
       "Pair \"tz1VSUr8wwNhLAzempoch5d6hLRiTh8Cjcjb\" \"Hello world\"  pair address string"
      ]
     },
     "execution_count": 15,
     "metadata": {},
     "output_type": "execute_result"
    }
   ],
   "source": [
    "PAIR ; DUMP ;"
   ]
  },
  {
   "cell_type": "markdown",
   "metadata": {},
   "source": [
    "We push an empty list and return the new storage:"
   ]
  },
  {
   "cell_type": "code",
   "execution_count": 16,
   "metadata": {},
   "outputs": [
    {
     "name": "stdout",
     "output_type": "stream",
     "text": [
      "NIL: push [];\n",
      "PAIR: pop [], ('tz1VSUr8wwNhLAzempoch5d6hLRiTh8Cjcjb', 'Hello world'); push ([], ('tz1VSUr8wwNhLAzempoch5d6hLRiTh8Cjcjb', 'Hello world'));"
     ]
    },
    {
     "data": {
      "text/html": [
       "<table>\n",
       "<thead>\n",
       "<tr><th>value                                                                                                   </th><th>type                                                                            </th></tr>\n",
       "</thead>\n",
       "<tbody>\n",
       "<tr><td><pre style=&quot;text-align: left;&quot;>Pair {} (Pair &quot;tz1VSUr8wwNhLAzempoch5d6hLRiTh8Cjcjb&quot; &quot;Hello world&quot;)</pre></td><td><pre style=&quot;text-align: left;&quot;>pair (list operation) (pair address string)</pre></td></tr>\n",
       "</tbody>\n",
       "</table>"
      ],
      "text/plain": [
       "value                                                                type\n",
       "-------------------------------------------------------------------  -------------------------------------------\n",
       "Pair {} (Pair \"tz1VSUr8wwNhLAzempoch5d6hLRiTh8Cjcjb\" \"Hello world\")  pair (list operation) (pair address string)"
      ]
     },
     "execution_count": 16,
     "metadata": {},
     "output_type": "execute_result"
    }
   ],
   "source": [
    "NIL operation ; PAIR ; DUMP ;"
   ]
  },
  {
   "cell_type": "code",
   "execution_count": null,
   "metadata": {},
   "outputs": [],
   "source": []
  }
 ],
 "metadata": {
  "kernelspec": {
   "display_name": "Michelson",
   "language": "michelson",
   "name": "michelson"
  },
  "language_info": {
   "codemirror_mode": "michelson",
   "file_extension": ".tz",
   "mimetype": "text/x-michelson",
   "name": "Michelson"
  }
 },
 "nbformat": 4,
 "nbformat_minor": 4
}
