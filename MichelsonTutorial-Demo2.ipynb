{
 "cells": [
  {
   "cell_type": "markdown",
   "metadata": {},
   "source": [
    "# Inline code\n",
    "\n",
    "The code is written in one single block."
   ]
  },
  {
   "cell_type": "code",
   "execution_count": 1,
   "metadata": {},
   "outputs": [
    {
     "name": "stdout",
     "output_type": "stream",
     "text": [
      "parameter unit;\n",
      "storage int;\n",
      "code { DROP ; PUSH int 2 ; PUSH int 3 ; ADD ; NIL operation ; PAIR };"
     ]
    }
   ],
   "source": [
    "parameter unit ;\n",
    "storage int ;\n",
    "code {\n",
    "    DROP ;\n",
    "    PUSH int 2 ;\n",
    "    PUSH int 3 ;\n",
    "    ADD ;\n",
    "    NIL operation ;\n",
    "    PAIR\n",
    "}"
   ]
  },
  {
   "cell_type": "code",
   "execution_count": 2,
   "metadata": {},
   "outputs": [
    {
     "name": "stdout",
     "output_type": "stream",
     "text": [
      "RUN: use %default; drop all; push (Unit, 0);\n",
      "  DROP: pop (Unit, 0);\n",
      "  PUSH: push 2;\n",
      "  PUSH: push 3;\n",
      "  ADD: pop 3, 2; push 5;\n",
      "  NIL: push [];\n",
      "  PAIR: pop [], 5; push ([], 5);"
     ]
    },
    {
     "data": {
      "text/html": [
       "<table>\n",
       "<thead>\n",
       "<tr><th>value                                 </th><th>type                                    </th></tr>\n",
       "</thead>\n",
       "<tbody>\n",
       "<tr><td><pre style=&quot;text-align: left;&quot;>5</pre></td><td><pre style=&quot;text-align: left;&quot;>int</pre></td></tr>\n",
       "</tbody>\n",
       "</table>"
      ],
      "text/plain": [
       "  value  type\n",
       "-------  ------\n",
       "      5  int"
      ]
     },
     "execution_count": 2,
     "metadata": {},
     "output_type": "execute_result"
    }
   ],
   "source": [
    "RUN %default Unit 0"
   ]
  },
  {
   "cell_type": "markdown",
   "metadata": {},
   "source": [
    "# Step by step\n",
    "\n",
    "You can track the stack after each operation."
   ]
  },
  {
   "cell_type": "code",
   "execution_count": 3,
   "metadata": {},
   "outputs": [
    {
     "name": "stdout",
     "output_type": "stream",
     "text": [
      "parameter unit;\n",
      "storage int;"
     ]
    }
   ],
   "source": [
    "parameter unit ;\n",
    "storage int ;"
   ]
  },
  {
   "cell_type": "code",
   "execution_count": 4,
   "metadata": {},
   "outputs": [
    {
     "data": {
      "text/html": [
       "<table>\n",
       "<thead>\n",
       "<tr><th>value                                           </th><th>type                                              </th></tr>\n",
       "</thead>\n",
       "<tbody>\n",
       "<tr><td><pre style=&quot;text-align: left;&quot;>Pair Unit 0</pre></td><td><pre style=&quot;text-align: left;&quot;>pair unit int</pre></td></tr>\n",
       "</tbody>\n",
       "</table>"
      ],
      "text/plain": [
       "value        type\n",
       "-----------  -------------\n",
       "Pair Unit 0  pair unit int"
      ]
     },
     "execution_count": 4,
     "metadata": {},
     "output_type": "execute_result"
    }
   ],
   "source": [
    "BEGIN Unit 0"
   ]
  },
  {
   "cell_type": "code",
   "execution_count": 5,
   "metadata": {},
   "outputs": [],
   "source": [
    "DROP ;"
   ]
  },
  {
   "cell_type": "code",
   "execution_count": 6,
   "metadata": {},
   "outputs": [
    {
     "data": {
      "text/html": [
       "<table>\n",
       "<thead>\n",
       "<tr><th>value                                 </th><th>type                                    </th></tr>\n",
       "</thead>\n",
       "<tbody>\n",
       "<tr><td><pre style=&quot;text-align: left;&quot;>2</pre></td><td><pre style=&quot;text-align: left;&quot;>int</pre></td></tr>\n",
       "</tbody>\n",
       "</table>"
      ],
      "text/plain": [
       "  value  type\n",
       "-------  ------\n",
       "      2  int"
      ]
     },
     "execution_count": 6,
     "metadata": {},
     "output_type": "execute_result"
    }
   ],
   "source": [
    "PUSH int 2 ;"
   ]
  },
  {
   "cell_type": "code",
   "execution_count": 7,
   "metadata": {},
   "outputs": [
    {
     "data": {
      "text/html": [
       "<table>\n",
       "<thead>\n",
       "<tr><th>value                                 </th><th>type                                    </th></tr>\n",
       "</thead>\n",
       "<tbody>\n",
       "<tr><td><pre style=&quot;text-align: left;&quot;>3</pre></td><td><pre style=&quot;text-align: left;&quot;>int</pre></td></tr>\n",
       "</tbody>\n",
       "</table>"
      ],
      "text/plain": [
       "  value  type\n",
       "-------  ------\n",
       "      3  int"
      ]
     },
     "execution_count": 7,
     "metadata": {},
     "output_type": "execute_result"
    }
   ],
   "source": [
    "PUSH int 3 ;"
   ]
  },
  {
   "cell_type": "code",
   "execution_count": 8,
   "metadata": {},
   "outputs": [
    {
     "data": {
      "text/html": [
       "<table>\n",
       "<thead>\n",
       "<tr><th>value                                 </th><th>type                                    </th></tr>\n",
       "</thead>\n",
       "<tbody>\n",
       "<tr><td><pre style=&quot;text-align: left;&quot;>5</pre></td><td><pre style=&quot;text-align: left;&quot;>int</pre></td></tr>\n",
       "</tbody>\n",
       "</table>"
      ],
      "text/plain": [
       "  value  type\n",
       "-------  ------\n",
       "      5  int"
      ]
     },
     "execution_count": 8,
     "metadata": {},
     "output_type": "execute_result"
    }
   ],
   "source": [
    "ADD ;"
   ]
  },
  {
   "cell_type": "code",
   "execution_count": 9,
   "metadata": {},
   "outputs": [
    {
     "data": {
      "text/html": [
       "<table>\n",
       "<thead>\n",
       "<tr><th>value                                  </th><th>type                                               </th></tr>\n",
       "</thead>\n",
       "<tbody>\n",
       "<tr><td><pre style=&quot;text-align: left;&quot;>[]</pre></td><td><pre style=&quot;text-align: left;&quot;>list operation</pre></td></tr>\n",
       "</tbody>\n",
       "</table>"
      ],
      "text/plain": [
       "value    type\n",
       "-------  --------------\n",
       "[]       list operation"
      ]
     },
     "execution_count": 9,
     "metadata": {},
     "output_type": "execute_result"
    }
   ],
   "source": [
    "NIL operation ;"
   ]
  },
  {
   "cell_type": "code",
   "execution_count": 10,
   "metadata": {},
   "outputs": [
    {
     "data": {
      "text/html": [
       "<table>\n",
       "<thead>\n",
       "<tr><th>value                                         </th><th>type                                                          </th></tr>\n",
       "</thead>\n",
       "<tbody>\n",
       "<tr><td><pre style=&quot;text-align: left;&quot;>Pair {} 5</pre></td><td><pre style=&quot;text-align: left;&quot;>pair (list operation) int</pre></td></tr>\n",
       "</tbody>\n",
       "</table>"
      ],
      "text/plain": [
       "value      type\n",
       "---------  -------------------------\n",
       "Pair {} 5  pair (list operation) int"
      ]
     },
     "execution_count": 10,
     "metadata": {},
     "output_type": "execute_result"
    }
   ],
   "source": [
    "PAIR ;"
   ]
  },
  {
   "cell_type": "code",
   "execution_count": 11,
   "metadata": {},
   "outputs": [
    {
     "data": {
      "text/html": [
       "<table>\n",
       "<thead>\n",
       "<tr><th>value                                 </th><th>type                                    </th></tr>\n",
       "</thead>\n",
       "<tbody>\n",
       "<tr><td><pre style=&quot;text-align: left;&quot;>5</pre></td><td><pre style=&quot;text-align: left;&quot;>int</pre></td></tr>\n",
       "</tbody>\n",
       "</table>"
      ],
      "text/plain": [
       "  value  type\n",
       "-------  ------\n",
       "      5  int"
      ]
     },
     "execution_count": 11,
     "metadata": {},
     "output_type": "execute_result"
    }
   ],
   "source": [
    "COMMIT"
   ]
  },
  {
   "cell_type": "code",
   "execution_count": null,
   "metadata": {},
   "outputs": [],
   "source": []
  }
 ],
 "metadata": {
  "kernelspec": {
   "display_name": "Michelson",
   "language": "michelson",
   "name": "michelson"
  },
  "language_info": {
   "codemirror_mode": "michelson",
   "file_extension": ".tz",
   "mimetype": "text/x-michelson",
   "name": "Michelson"
  }
 },
 "nbformat": 4,
 "nbformat_minor": 4
}
