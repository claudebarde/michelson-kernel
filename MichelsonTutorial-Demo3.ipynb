{
 "cells": [
  {
   "cell_type": "code",
   "execution_count": 8,
   "metadata": {},
   "outputs": [
    {
     "name": "stdout",
     "output_type": "stream",
     "text": [
      "parameter string;\n",
      "storage string;\n",
      "code { DUP ; CAR ; SWAP ; CDR ; CONCAT ; NIL operation ; PAIR };"
     ]
    }
   ],
   "source": [
    "parameter string ;\n",
    "storage string ;\n",
    "code {\n",
    "    DUP ;\n",
    "    CAR ;\n",
    "    SWAP ;\n",
    "    CDR ;\n",
    "    CONCAT ;\n",
    "    NIL operation ;\n",
    "    PAIR\n",
    "}"
   ]
  },
  {
   "cell_type": "code",
   "execution_count": 9,
   "metadata": {},
   "outputs": [
    {
     "name": "stdout",
     "output_type": "stream",
     "text": [
      "RUN: use %default; drop all; push (' world', 'Hello');\n",
      "  DUP: push (' world', 'Hello');\n",
      "  CAR: pop (' world', 'Hello'); push  world;\n",
      "  SWAP: pop  world, (' world', 'Hello'); push  world; push (' world', 'Hello');\n",
      "  CDR: pop (' world', 'Hello'); push Hello;\n",
      "  CONCAT: pop Hello; pop  world; push Hello world;\n",
      "  NIL: push [];\n",
      "  PAIR: pop [], Hello world; push ([], 'Hello world');"
     ]
    },
    {
     "data": {
      "text/html": [
       "<table>\n",
       "<thead>\n",
       "<tr><th>value                                             </th><th>type                                       </th></tr>\n",
       "</thead>\n",
       "<tbody>\n",
       "<tr><td><pre style=&quot;text-align: left;&quot;>&quot;Hello world&quot;</pre></td><td><pre style=&quot;text-align: left;&quot;>string</pre></td></tr>\n",
       "</tbody>\n",
       "</table>"
      ],
      "text/plain": [
       "value          type\n",
       "-------------  ------\n",
       "\"Hello world\"  string"
      ]
     },
     "execution_count": 9,
     "metadata": {},
     "output_type": "execute_result"
    }
   ],
   "source": [
    "RUN %default \" world\" \"Hello\""
   ]
  },
  {
   "cell_type": "code",
   "execution_count": null,
   "metadata": {},
   "outputs": [],
   "source": []
  }
 ],
 "metadata": {
  "kernelspec": {
   "display_name": "Michelson",
   "language": "michelson",
   "name": "michelson"
  },
  "language_info": {
   "codemirror_mode": "michelson",
   "file_extension": ".tz",
   "mimetype": "text/x-michelson",
   "name": "Michelson"
  }
 },
 "nbformat": 4,
 "nbformat_minor": 4
}
