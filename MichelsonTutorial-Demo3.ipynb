{
 "cells": [
  {
   "cell_type": "markdown",
   "metadata": {},
   "source": [
    "# Inline code\n",
    "\n",
    "The code is written in one single block."
   ]
  },
  {
   "cell_type": "code",
   "execution_count": 8,
   "metadata": {},
   "outputs": [
    {
     "name": "stdout",
     "output_type": "stream",
     "text": [
      "parameter string;\n",
      "storage string;\n",
      "code { DUP ; CAR ; SWAP ; CDR ; CONCAT ; NIL operation ; PAIR };"
     ]
    }
   ],
   "source": [
    "parameter string ;\n",
    "storage string ;\n",
    "code {\n",
    "    DUP ;\n",
    "    CAR ;\n",
    "    SWAP ;\n",
    "    CDR ;\n",
    "    CONCAT ;\n",
    "    NIL operation ;\n",
    "    PAIR\n",
    "}"
   ]
  },
  {
   "cell_type": "code",
   "execution_count": 10,
   "metadata": {},
   "outputs": [
    {
     "name": "stdout",
     "output_type": "stream",
     "text": [
      "RUN: use %default; drop all; push ('world', 'Hello ');\n",
      "  DUP: push ('world', 'Hello ');\n",
      "  CAR: pop ('world', 'Hello '); push world;\n",
      "  SWAP: pop world, ('world', 'Hello '); push world; push ('world', 'Hello ');\n",
      "  CDR: pop ('world', 'Hello '); push Hello ;\n",
      "  CONCAT: pop Hello ; pop world; push Hello world;\n",
      "  NIL: push [];\n",
      "  PAIR: pop [], Hello world; push ([], 'Hello world');"
     ]
    },
    {
     "data": {
      "text/html": [
       "<table>\n",
       "<thead>\n",
       "<tr><th>value                                             </th><th>type                                       </th></tr>\n",
       "</thead>\n",
       "<tbody>\n",
       "<tr><td><pre style=&quot;text-align: left;&quot;>&quot;Hello world&quot;</pre></td><td><pre style=&quot;text-align: left;&quot;>string</pre></td></tr>\n",
       "</tbody>\n",
       "</table>"
      ],
      "text/plain": [
       "value          type\n",
       "-------------  ------\n",
       "\"Hello world\"  string"
      ]
     },
     "execution_count": 10,
     "metadata": {},
     "output_type": "execute_result"
    }
   ],
   "source": [
    "RUN %default \"world\" \"Hello \""
   ]
  },
  {
   "cell_type": "markdown",
   "metadata": {},
   "source": [
    "# Step by step\n",
    "\n",
    "You can track the stack after each operation.  \n",
    "The **DUMP** opcode is not Michelson, it only allows you to see the current state of the stack."
   ]
  },
  {
   "cell_type": "code",
   "execution_count": 1,
   "metadata": {},
   "outputs": [
    {
     "name": "stdout",
     "output_type": "stream",
     "text": [
      "parameter string;\n",
      "storage string;"
     ]
    }
   ],
   "source": [
    "parameter string ;\n",
    "storage string ;"
   ]
  },
  {
   "cell_type": "code",
   "execution_count": 2,
   "metadata": {},
   "outputs": [
    {
     "data": {
      "text/html": [
       "<table>\n",
       "<thead>\n",
       "<tr><th>value                                                     </th><th>type                                                   </th></tr>\n",
       "</thead>\n",
       "<tbody>\n",
       "<tr><td><pre style=&quot;text-align: left;&quot;>Pair &quot; world&quot; &quot;Hello&quot;</pre></td><td><pre style=&quot;text-align: left;&quot;>pair string string</pre></td></tr>\n",
       "</tbody>\n",
       "</table>"
      ],
      "text/plain": [
       "value                  type\n",
       "---------------------  ------------------\n",
       "Pair \" world\" \"Hello\"  pair string string"
      ]
     },
     "execution_count": 2,
     "metadata": {},
     "output_type": "execute_result"
    }
   ],
   "source": [
    "BEGIN \" world\" \"Hello\""
   ]
  },
  {
   "cell_type": "code",
   "execution_count": 3,
   "metadata": {},
   "outputs": [
    {
     "data": {
      "text/html": [
       "<table>\n",
       "<thead>\n",
       "<tr><th>value                                                     </th><th>type                                                   </th></tr>\n",
       "</thead>\n",
       "<tbody>\n",
       "<tr><td><pre style=&quot;text-align: left;&quot;>Pair &quot; world&quot; &quot;Hello&quot;</pre></td><td><pre style=&quot;text-align: left;&quot;>pair string string</pre></td></tr>\n",
       "<tr><td><pre style=&quot;text-align: left;&quot;>Pair &quot; world&quot; &quot;Hello&quot;</pre></td><td><pre style=&quot;text-align: left;&quot;>pair string string</pre></td></tr>\n",
       "</tbody>\n",
       "</table>"
      ],
      "text/plain": [
       "value                  type\n",
       "---------------------  ------------------\n",
       "Pair \" world\" \"Hello\"  pair string string\n",
       "Pair \" world\" \"Hello\"  pair string string"
      ]
     },
     "execution_count": 3,
     "metadata": {},
     "output_type": "execute_result"
    }
   ],
   "source": [
    "DUP ; DUMP ;"
   ]
  },
  {
   "cell_type": "code",
   "execution_count": 4,
   "metadata": {},
   "outputs": [
    {
     "data": {
      "text/html": [
       "<table>\n",
       "<thead>\n",
       "<tr><th>value                                                     </th><th>type                                                   </th></tr>\n",
       "</thead>\n",
       "<tbody>\n",
       "<tr><td><pre style=&quot;text-align: left;&quot;>&quot; world&quot;</pre>             </td><td><pre style=&quot;text-align: left;&quot;>string</pre>            </td></tr>\n",
       "<tr><td><pre style=&quot;text-align: left;&quot;>Pair &quot; world&quot; &quot;Hello&quot;</pre></td><td><pre style=&quot;text-align: left;&quot;>pair string string</pre></td></tr>\n",
       "</tbody>\n",
       "</table>"
      ],
      "text/plain": [
       "value                  type\n",
       "---------------------  ------------------\n",
       "\" world\"               string\n",
       "Pair \" world\" \"Hello\"  pair string string"
      ]
     },
     "execution_count": 4,
     "metadata": {},
     "output_type": "execute_result"
    }
   ],
   "source": [
    "CAR ; DUMP ;"
   ]
  },
  {
   "cell_type": "code",
   "execution_count": 5,
   "metadata": {},
   "outputs": [
    {
     "data": {
      "text/html": [
       "<table>\n",
       "<thead>\n",
       "<tr><th>value                                                     </th><th>type                                                   </th></tr>\n",
       "</thead>\n",
       "<tbody>\n",
       "<tr><td><pre style=&quot;text-align: left;&quot;>Pair &quot; world&quot; &quot;Hello&quot;</pre></td><td><pre style=&quot;text-align: left;&quot;>pair string string</pre></td></tr>\n",
       "<tr><td><pre style=&quot;text-align: left;&quot;>&quot; world&quot;</pre>             </td><td><pre style=&quot;text-align: left;&quot;>string</pre>            </td></tr>\n",
       "</tbody>\n",
       "</table>"
      ],
      "text/plain": [
       "value                  type\n",
       "---------------------  ------------------\n",
       "Pair \" world\" \"Hello\"  pair string string\n",
       "\" world\"               string"
      ]
     },
     "execution_count": 5,
     "metadata": {},
     "output_type": "execute_result"
    }
   ],
   "source": [
    "SWAP ; DUMP ;"
   ]
  },
  {
   "cell_type": "code",
   "execution_count": 6,
   "metadata": {},
   "outputs": [
    {
     "data": {
      "text/html": [
       "<table>\n",
       "<thead>\n",
       "<tr><th>value                                        </th><th>type                                       </th></tr>\n",
       "</thead>\n",
       "<tbody>\n",
       "<tr><td><pre style=&quot;text-align: left;&quot;>&quot;Hello&quot;</pre> </td><td><pre style=&quot;text-align: left;&quot;>string</pre></td></tr>\n",
       "<tr><td><pre style=&quot;text-align: left;&quot;>&quot; world&quot;</pre></td><td><pre style=&quot;text-align: left;&quot;>string</pre></td></tr>\n",
       "</tbody>\n",
       "</table>"
      ],
      "text/plain": [
       "value     type\n",
       "--------  ------\n",
       "\"Hello\"   string\n",
       "\" world\"  string"
      ]
     },
     "execution_count": 6,
     "metadata": {},
     "output_type": "execute_result"
    }
   ],
   "source": [
    "CDR ; DUMP ;"
   ]
  },
  {
   "cell_type": "code",
   "execution_count": 7,
   "metadata": {},
   "outputs": [
    {
     "data": {
      "text/html": [
       "<table>\n",
       "<thead>\n",
       "<tr><th>value                                             </th><th>type                                       </th></tr>\n",
       "</thead>\n",
       "<tbody>\n",
       "<tr><td><pre style=&quot;text-align: left;&quot;>&quot;Hello world&quot;</pre></td><td><pre style=&quot;text-align: left;&quot;>string</pre></td></tr>\n",
       "</tbody>\n",
       "</table>"
      ],
      "text/plain": [
       "value          type\n",
       "-------------  ------\n",
       "\"Hello world\"  string"
      ]
     },
     "execution_count": 7,
     "metadata": {},
     "output_type": "execute_result"
    }
   ],
   "source": [
    "CONCAT ; DUMP ;"
   ]
  },
  {
   "cell_type": "code",
   "execution_count": 8,
   "metadata": {},
   "outputs": [
    {
     "data": {
      "text/html": [
       "<table>\n",
       "<thead>\n",
       "<tr><th>value                                             </th><th>type                                               </th></tr>\n",
       "</thead>\n",
       "<tbody>\n",
       "<tr><td><pre style=&quot;text-align: left;&quot;>[]</pre>           </td><td><pre style=&quot;text-align: left;&quot;>list operation</pre></td></tr>\n",
       "<tr><td><pre style=&quot;text-align: left;&quot;>&quot;Hello world&quot;</pre></td><td><pre style=&quot;text-align: left;&quot;>string</pre>        </td></tr>\n",
       "</tbody>\n",
       "</table>"
      ],
      "text/plain": [
       "value          type\n",
       "-------------  --------------\n",
       "[]             list operation\n",
       "\"Hello world\"  string"
      ]
     },
     "execution_count": 8,
     "metadata": {},
     "output_type": "execute_result"
    }
   ],
   "source": [
    "NIL operation ; DUMP ;"
   ]
  },
  {
   "cell_type": "code",
   "execution_count": 9,
   "metadata": {},
   "outputs": [
    {
     "data": {
      "text/html": [
       "<table>\n",
       "<thead>\n",
       "<tr><th>value                                                     </th><th>type                                                             </th></tr>\n",
       "</thead>\n",
       "<tbody>\n",
       "<tr><td><pre style=&quot;text-align: left;&quot;>Pair {} &quot;Hello world&quot;</pre></td><td><pre style=&quot;text-align: left;&quot;>pair (list operation) string</pre></td></tr>\n",
       "</tbody>\n",
       "</table>"
      ],
      "text/plain": [
       "value                  type\n",
       "---------------------  ----------------------------\n",
       "Pair {} \"Hello world\"  pair (list operation) string"
      ]
     },
     "execution_count": 9,
     "metadata": {},
     "output_type": "execute_result"
    }
   ],
   "source": [
    "PAIR ; DUMP ;"
   ]
  },
  {
   "cell_type": "code",
   "execution_count": 12,
   "metadata": {},
   "outputs": [
    {
     "data": {
      "text/html": [
       "<table>\n",
       "<thead>\n",
       "<tr><th>value                                             </th><th>type                                       </th></tr>\n",
       "</thead>\n",
       "<tbody>\n",
       "<tr><td><pre style=&quot;text-align: left;&quot;>&quot;Hello world&quot;</pre></td><td><pre style=&quot;text-align: left;&quot;>string</pre></td></tr>\n",
       "</tbody>\n",
       "</table>"
      ],
      "text/plain": [
       "value          type\n",
       "-------------  ------\n",
       "\"Hello world\"  string"
      ]
     },
     "execution_count": 12,
     "metadata": {},
     "output_type": "execute_result"
    }
   ],
   "source": [
    "COMMIT"
   ]
  },
  {
   "cell_type": "code",
   "execution_count": null,
   "metadata": {},
   "outputs": [],
   "source": []
  }
 ],
 "metadata": {
  "kernelspec": {
   "display_name": "Michelson",
   "language": "michelson",
   "name": "michelson"
  },
  "language_info": {
   "codemirror_mode": "michelson",
   "file_extension": ".tz",
   "mimetype": "text/x-michelson",
   "name": "Michelson"
  }
 },
 "nbformat": 4,
 "nbformat_minor": 4
}
