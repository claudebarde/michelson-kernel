{
 "cells": [
  {
   "cell_type": "code",
   "execution_count": 1,
   "metadata": {},
   "outputs": [
    {
     "name": "stdout",
     "output_type": "stream",
     "text": [
      "parameter unit;\n",
      "storage string;\n",
      "code { DROP ; PUSH string \"Hello world\" ; NIL operation ; PAIR };"
     ]
    }
   ],
   "source": [
    "parameter unit ;\n",
    "storage string ;\n",
    "code {\n",
    "    DROP ;\n",
    "    PUSH string \"Hello world\" ;\n",
    "    NIL operation ;\n",
    "    PAIR\n",
    "}"
   ]
  },
  {
   "cell_type": "code",
   "execution_count": 2,
   "metadata": {},
   "outputs": [
    {
     "name": "stdout",
     "output_type": "stream",
     "text": [
      "RUN: use %default; drop all; push (Unit, '');\n",
      "  DROP: pop (Unit, '');\n",
      "  PUSH: push Hello world;\n",
      "  NIL: push [];\n",
      "  PAIR: pop [], Hello world; push ([], 'Hello world');"
     ]
    },
    {
     "data": {
      "text/html": [
       "<table>\n",
       "<thead>\n",
       "<tr><th>value                                             </th><th>type                                       </th></tr>\n",
       "</thead>\n",
       "<tbody>\n",
       "<tr><td><pre style=&quot;text-align: left;&quot;>&quot;Hello world&quot;</pre></td><td><pre style=&quot;text-align: left;&quot;>string</pre></td></tr>\n",
       "</tbody>\n",
       "</table>"
      ],
      "text/plain": [
       "value          type\n",
       "-------------  ------\n",
       "\"Hello world\"  string"
      ]
     },
     "execution_count": 2,
     "metadata": {},
     "output_type": "execute_result"
    }
   ],
   "source": [
    "RUN %default Unit \"\""
   ]
  },
  {
   "cell_type": "code",
   "execution_count": null,
   "metadata": {},
   "outputs": [],
   "source": []
  }
 ],
 "metadata": {
  "kernelspec": {
   "display_name": "Michelson",
   "language": "michelson",
   "name": "michelson"
  },
  "language_info": {
   "codemirror_mode": "michelson",
   "file_extension": ".tz",
   "mimetype": "text/x-michelson",
   "name": "Michelson"
  }
 },
 "nbformat": 4,
 "nbformat_minor": 4
}
